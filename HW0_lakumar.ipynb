{
 "cells": [
  {
   "cell_type": "markdown",
   "metadata": {},
   "source": [
    "### Libaries used"
   ]
  },
  {
   "cell_type": "code",
   "execution_count": 1,
   "metadata": {},
   "outputs": [],
   "source": [
    "from sklearn.model_selection import train_test_split\n",
    "import sklearn\n",
    "import numpy as np\n",
    "from torch.utils import data as T\n",
    "import torch\n",
    "from torchsummary import summary\n",
    "import pandas as pd\n",
    "import matplotlib.pyplot as plt\n",
    "import torch.nn as nn\n",
    "import torch.nn.functional as F"
   ]
  },
  {
   "cell_type": "markdown",
   "metadata": {},
   "source": [
    "### Data import\n",
    "I will be using yacht hydrodynamics data from UCI dataset whose link can be find at the end of paragraph. \n",
    "The data focuses on prediction of residuary resistance of sailing yachts at the initial design stage is of a great value for evaluating the ships performance and for estimating the required propulsive power. Essential inputs include the basic hull dimensions and the boat velocity.\n",
    "\n",
    "The Delft data set comprises 308 full-scale experiments, which were performed at the Delft Ship Hydromechanics Laboratory for that purpose. These experiments include 22 different hull forms, derived from a parent form closely related to the designed by Frans Maas.\n",
    "\n",
    "https://archive.ics.uci.edu/ml/datasets/Yacht+Hydrodynamics"
   ]
  },
  {
   "cell_type": "code",
   "execution_count": 2,
   "metadata": {},
   "outputs": [],
   "source": [
    "data = pd.read_csv(\"yacht_hydrodynamics.data\",sep = \" \",\n",
    "                   names = [\"Long Position\",\"Prismatic coefficient\",\"length-displacement ratio\",\n",
    "                            \"bean-draught ratio\",\"length-bean ratio\",\"froude number\",\"residuary resistance\"])\n",
    "data = data.fillna(0)"
   ]
  },
  {
   "cell_type": "code",
   "execution_count": 3,
   "metadata": {},
   "outputs": [
    {
     "data": {
      "text/html": [
       "<div>\n",
       "<style scoped>\n",
       "    .dataframe tbody tr th:only-of-type {\n",
       "        vertical-align: middle;\n",
       "    }\n",
       "\n",
       "    .dataframe tbody tr th {\n",
       "        vertical-align: top;\n",
       "    }\n",
       "\n",
       "    .dataframe thead th {\n",
       "        text-align: right;\n",
       "    }\n",
       "</style>\n",
       "<table border=\"1\" class=\"dataframe\">\n",
       "  <thead>\n",
       "    <tr style=\"text-align: right;\">\n",
       "      <th></th>\n",
       "      <th>Long Position</th>\n",
       "      <th>Prismatic coefficient</th>\n",
       "      <th>length-displacement ratio</th>\n",
       "      <th>bean-draught ratio</th>\n",
       "      <th>length-bean ratio</th>\n",
       "      <th>froude number</th>\n",
       "      <th>residuary resistance</th>\n",
       "    </tr>\n",
       "  </thead>\n",
       "  <tbody>\n",
       "    <tr>\n",
       "      <th>0</th>\n",
       "      <td>-2.3</td>\n",
       "      <td>0.568</td>\n",
       "      <td>4.78</td>\n",
       "      <td>3.99</td>\n",
       "      <td>3.17</td>\n",
       "      <td>0.125</td>\n",
       "      <td>0.11</td>\n",
       "    </tr>\n",
       "    <tr>\n",
       "      <th>1</th>\n",
       "      <td>-2.3</td>\n",
       "      <td>0.568</td>\n",
       "      <td>4.78</td>\n",
       "      <td>3.99</td>\n",
       "      <td>3.17</td>\n",
       "      <td>0.150</td>\n",
       "      <td>0.27</td>\n",
       "    </tr>\n",
       "    <tr>\n",
       "      <th>2</th>\n",
       "      <td>-2.3</td>\n",
       "      <td>0.568</td>\n",
       "      <td>4.78</td>\n",
       "      <td>3.99</td>\n",
       "      <td>3.17</td>\n",
       "      <td>0.175</td>\n",
       "      <td>0.47</td>\n",
       "    </tr>\n",
       "    <tr>\n",
       "      <th>3</th>\n",
       "      <td>-2.3</td>\n",
       "      <td>0.568</td>\n",
       "      <td>4.78</td>\n",
       "      <td>3.99</td>\n",
       "      <td>3.17</td>\n",
       "      <td>0.200</td>\n",
       "      <td>0.78</td>\n",
       "    </tr>\n",
       "    <tr>\n",
       "      <th>4</th>\n",
       "      <td>-2.3</td>\n",
       "      <td>0.568</td>\n",
       "      <td>4.78</td>\n",
       "      <td>3.99</td>\n",
       "      <td>3.17</td>\n",
       "      <td>0.225</td>\n",
       "      <td>1.18</td>\n",
       "    </tr>\n",
       "  </tbody>\n",
       "</table>\n",
       "</div>"
      ],
      "text/plain": [
       "   Long Position  Prismatic coefficient  length-displacement ratio  \\\n",
       "0           -2.3                  0.568                       4.78   \n",
       "1           -2.3                  0.568                       4.78   \n",
       "2           -2.3                  0.568                       4.78   \n",
       "3           -2.3                  0.568                       4.78   \n",
       "4           -2.3                  0.568                       4.78   \n",
       "\n",
       "   bean-draught ratio  length-bean ratio  froude number  residuary resistance  \n",
       "0                3.99               3.17          0.125                  0.11  \n",
       "1                3.99               3.17          0.150                  0.27  \n",
       "2                3.99               3.17          0.175                  0.47  \n",
       "3                3.99               3.17          0.200                  0.78  \n",
       "4                3.99               3.17          0.225                  1.18  "
      ]
     },
     "execution_count": 3,
     "metadata": {},
     "output_type": "execute_result"
    }
   ],
   "source": [
    "data.head()"
   ]
  },
  {
   "cell_type": "markdown",
   "metadata": {},
   "source": [
    "#### Making two different objects one which holders all the features and other which holds our target or dependent variable.\n",
    "We have used minmax scaler on the our target variable so that we will have same range with the predicted data from the model and our y. We will be converting all the data into the tensor."
   ]
  },
  {
   "cell_type": "code",
   "execution_count": 4,
   "metadata": {},
   "outputs": [],
   "source": [
    "features = torch.tensor(data[[\"Long Position\",\"Prismatic coefficient\",\"length-displacement ratio\",\n",
    "                            \"bean-draught ratio\",\"length-bean ratio\",\"froude number\"]].values)\n",
    "target = sklearn.preprocessing.minmax_scale(data[[\"residuary resistance\"]], feature_range=(0, 1), axis=0, copy=True)\n",
    "target = torch.tensor(target)"
   ]
  },
  {
   "cell_type": "markdown",
   "metadata": {},
   "source": [
    "#### Calling train test split function of the scikit-learn to divide the data into two parts where 80% of the data lies in training and rest 20% in the testing."
   ]
  },
  {
   "cell_type": "code",
   "execution_count": 5,
   "metadata": {},
   "outputs": [],
   "source": [
    "train_features,test_features,train_target,test_target= train_test_split(features, target, test_size = 0.2,random_state=100)"
   ]
  },
  {
   "cell_type": "markdown",
   "metadata": {},
   "source": [
    "### Making a dataloader object\n",
    "For making a dataloader object, we will first create a dataset class which uses the superclass from torce.utils.data. We will use below class to make a object of dataset class and will use this object to create a object of dataloader."
   ]
  },
  {
   "cell_type": "code",
   "execution_count": 6,
   "metadata": {},
   "outputs": [],
   "source": [
    "class DatasetT(T.Dataset):\n",
    "   \n",
    "    def __init__(self, features,labels):\n",
    "        'Initialization'\n",
    "        self.X = features\n",
    "        self.Y = labels\n",
    "\n",
    "    def __len__(self):\n",
    "        'Denotes the total number of samples'\n",
    "        return len(self.X)\n",
    "   \n",
    "    def __getitem__(self, index):\n",
    "        'Generates one sample of data'\n",
    "        # Select sample\n",
    "        x = self.X[index]\n",
    "        y = self.Y[index]\n",
    "\n",
    "        return x,y"
   ]
  },
  {
   "cell_type": "code",
   "execution_count": 7,
   "metadata": {},
   "outputs": [],
   "source": [
    "trainset = DatasetT(train_features,train_target)\n",
    "testset = DatasetT(test_features,test_target)"
   ]
  },
  {
   "cell_type": "markdown",
   "metadata": {},
   "source": [
    "#### Making Dataloader object with batchsize as the number of instances in dataset"
   ]
  },
  {
   "cell_type": "code",
   "execution_count": 8,
   "metadata": {},
   "outputs": [],
   "source": [
    "train_loader = torch.utils.data.DataLoader(dataset=trainset, \n",
    "                                           batch_size=277, \n",
    "                                           shuffle=True)\n",
    "test_loader = torch.utils.data.DataLoader(dataset=testset, \n",
    "                                           batch_size=62, \n",
    "                                           shuffle=True)"
   ]
  },
  {
   "cell_type": "markdown",
   "metadata": {},
   "source": [
    "### Model class\n",
    "Below is the network with one input layer, one output layer and one hidden layer. Our input layer has 6 neurons which is equal to the number of features in our dataset. Hidden layer consists of 2d dimensions which is 12 input neurons and one output neuron for output. We have sigmoid activation as directed in the assignment document"
   ]
  },
  {
   "cell_type": "code",
   "execution_count": 9,
   "metadata": {},
   "outputs": [],
   "source": [
    "class Network(nn.Module):\n",
    "    def __init__(self):\n",
    "        super().__init__()\n",
    "        self.fc1 = nn.Linear(6, 12)\n",
    "        self.fc2 = nn.Linear(12, 1)\n",
    "\n",
    "    def forward(self,x):\n",
    "        x = torch.sigmoid(self.fc1(x))\n",
    "        x = self.fc2(x)\n",
    "        return x"
   ]
  },
  {
   "cell_type": "markdown",
   "metadata": {},
   "source": [
    "### Creating model object"
   ]
  },
  {
   "cell_type": "code",
   "execution_count": 10,
   "metadata": {},
   "outputs": [],
   "source": [
    "model = Network()"
   ]
  },
  {
   "cell_type": "markdown",
   "metadata": {},
   "source": [
    "### Loss function and optimizer\n",
    "We have used MSE as the loss function and adam optimizer with learning rate as 0.005"
   ]
  },
  {
   "cell_type": "code",
   "execution_count": 11,
   "metadata": {},
   "outputs": [],
   "source": [
    "from torch.optim import Adam\n",
    "from sklearn.metrics import mean_squared_error, r2_score\n",
    "\n",
    "criterion = nn.MSELoss()\n",
    "optm = Adam(model.parameters(), lr = 0.0003)"
   ]
  },
  {
   "cell_type": "markdown",
   "metadata": {},
   "source": [
    "### Training the model with 200 epoch and storing all the mse in a list"
   ]
  },
  {
   "cell_type": "code",
   "execution_count": 12,
   "metadata": {},
   "outputs": [],
   "source": [
    "train_mse = []\n",
    "test_mse = []\n",
    "for epoch in range(500):\n",
    "    yPred = []\n",
    "    yA = []\n",
    "    for i, (x, y) in enumerate(train_loader):\n",
    "        optm.zero_grad()                   \n",
    "        outputs = model(x.float())                        \n",
    "        loss = criterion(outputs, y.float())            \n",
    "        loss.backward()                         \n",
    "        optm.step() \n",
    "        yPred.append(outputs)\n",
    "        yA.append(y)\n",
    "    train_mse.append(mean_squared_error(yA[0].detach().numpy(), yPred[0].detach().numpy()))\n",
    "    yPred = []\n",
    "    yA = []\n",
    "    with torch.no_grad():\n",
    "        for x,y in test_loader:\n",
    "            output = model(x.float()) \n",
    "            yPred.append(output)\n",
    "            yA.append(y)\n",
    "    test_mse.append(mean_squared_error(yA[0].detach().numpy(), yPred[0].detach().numpy()))"
   ]
  },
  {
   "cell_type": "markdown",
   "metadata": {},
   "source": [
    "### Building plot for training data\n",
    "Since we have specified the batch size as the number of instances in the dataset so the weight update will be 1 in each epoch. So our x-axis will be the number of epochs and on the y axis will be the mse."
   ]
  },
  {
   "cell_type": "code",
   "execution_count": 13,
   "metadata": {},
   "outputs": [
    {
     "data": {
      "image/png": "[encoded data removed]",
      "text/plain": [
       "<Figure size 1008x288 with 2 Axes>"
      ]
     },
     "metadata": {
      "needs_background": "light"
     },
     "output_type": "display_data"
    }
   ],
   "source": [
    "xaxis = range(1,501)\n",
    "fig, (ax1, ax2) = plt.subplots(1, 2,figsize=(14, 4))\n",
    "fig.suptitle('Weight updates vs MSE')\n",
    "\n",
    "ax1.plot(xaxis,train_mse)\n",
    "ax1.title.set_text('Training plot')\n",
    "ax1.set_xlabel('Number of weight updates')\n",
    "\n",
    "ax2.plot(xaxis,test_mse)\n",
    "ax2.title.set_text('Testing plot')\n",
    "ax2.set_xlabel('Number of weight updates')\n",
    "\n",
    "ax1.set_ylabel('MSE');"
   ]
  },
  {
   "cell_type": "code",
   "execution_count": null,
   "metadata": {},
   "outputs": [],
   "source": []
  }
 ],
 "metadata": {
  "kernelspec": {
   "display_name": "Python 3",
   "language": "python",
   "name": "python3"
  },
  "language_info": {
   "codemirror_mode": {
    "name": "ipython",
    "version": 3
   },
   "file_extension": ".py",
   "mimetype": "text/x-python",
   "name": "python",
   "nbconvert_exporter": "python",
   "pygments_lexer": "ipython3",
   "version": "3.8.3"
  }
 },
 "nbformat": 4,
 "nbformat_minor": 2
}
